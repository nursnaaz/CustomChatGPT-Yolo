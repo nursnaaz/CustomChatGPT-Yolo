{
 "cells": [
  {
   "cell_type": "code",
   "execution_count": 1,
   "id": "d07b4255-aa4f-4441-b25f-ac8a40257a3c",
   "metadata": {},
   "outputs": [
    {
     "name": "stdout",
     "output_type": "stream",
     "text": [
      "                                               message   rating  \\\n",
      "0    My Relative Someone Referred this  Inceptez Te...  5 stars   \n",
      "1    Good to learn big  Data from Inceptez. Thanks ...  5 stars   \n",
      "2    Inceptez Technologies is probably the best ins...  5 stars   \n",
      "3    It's a great place to learn the Data Science c...  5 stars   \n",
      "4    Very good place to learn Big Data related comp...  5 stars   \n",
      "..                                                 ...      ...   \n",
      "857                                                NaN  5 stars   \n",
      "858                                                NaN  5 stars   \n",
      "859                                                NaN  5 stars   \n",
      "860                                                NaN  5 stars   \n",
      "861                                                NaN  5 stars   \n",
      "\n",
      "                  reviewer               pastreviews  \n",
      "0                  bv asha                  1 review  \n",
      "1              Shri Balaji                  1 review  \n",
      "2          Mohamed Mujamil  Local Guide · 17 reviews  \n",
      "3           Divya Narayana                  1 review  \n",
      "4      Karthikeyan Perumal                 2 reviews  \n",
      "..                     ...                       ...  \n",
      "857            Ram Prakash                       NaN  \n",
      "858       Revathi Jothiraj                       NaN  \n",
      "859            Anti Indian                       NaN  \n",
      "860  Meaga Varsha Ramasami                       NaN  \n",
      "861             Gnanavel L                       NaN  \n",
      "\n",
      "[862 rows x 4 columns]\n"
     ]
    }
   ],
   "source": [
    "import pandas as pd\n",
    "import sqlite3\n",
    "df = pd.read_csv('inceptez_reviews.csv')\n",
    "print(df)\n",
    "table_name = 'review'\n",
    "\n",
    "conn = sqlite3.connect('mydb.sqlite')\n",
    "query = f'Create table if not Exists {table_name} (message,rating,reviewer,pastreviews)'\n",
    "conn.execute(query)\n",
    "df.to_sql(table_name,conn,if_exists='replace',index=False)\n",
    "conn.commit()\n",
    "conn.close()"
   ]
  },
  {
   "cell_type": "code",
   "execution_count": null,
   "id": "dd9fb26b-10e0-43dd-b8d5-2e99750109a6",
   "metadata": {},
   "outputs": [],
   "source": []
  }
 ],
 "metadata": {
  "kernelspec": {
   "display_name": "Python 3 (ipykernel)",
   "language": "python",
   "name": "python3"
  },
  "language_info": {
   "codemirror_mode": {
    "name": "ipython",
    "version": 3
   },
   "file_extension": ".py",
   "mimetype": "text/x-python",
   "name": "python",
   "nbconvert_exporter": "python",
   "pygments_lexer": "ipython3",
   "version": "3.9.13"
  }
 },
 "nbformat": 4,
 "nbformat_minor": 5
}
