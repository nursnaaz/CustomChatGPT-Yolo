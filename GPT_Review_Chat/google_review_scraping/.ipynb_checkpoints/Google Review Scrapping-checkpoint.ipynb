{
 "cells": [
  {
   "cell_type": "code",
   "execution_count": 3,
   "id": "1e60c682",
   "metadata": {},
   "outputs": [],
   "source": [
    "from selenium import webdriver\n",
    "import pandas as pd\n",
    "import time"
   ]
  },
  {
   "cell_type": "code",
   "execution_count": 4,
   "id": "efab183b",
   "metadata": {},
   "outputs": [],
   "source": [
    "# chrome_driver_path = r\"/Users/mohamednoordeenalaudeen/Downloads/chromedriver_mac_arm64/chromedriver\"\n",
    "\n",
    "# options = webdriver.ChromeOptions()\n",
    "# driver = webdriver.Chrome(executable_path=chrome_driver_path,options=options)"
   ]
  },
  {
   "cell_type": "code",
   "execution_count": 5,
   "id": "bc18c4ec",
   "metadata": {},
   "outputs": [],
   "source": [
    "driver = webdriver.Chrome()\n",
    "url = 'https://www.google.com/maps/place/Inceptez+Technologies/@12.9832412,80.2149156,17z/data=!4m8!3m7!1s0x3a525d8f4adea53b:0xc30682a43fa16801!8m2!3d12.983236!4d80.2197865!9m1!1b1!16s%2Fg%2F11bwc7g3fv'\n",
    "driver.get(url)\n"
   ]
  },
  {
   "cell_type": "code",
   "execution_count": 6,
   "id": "38a4bb56",
   "metadata": {},
   "outputs": [],
   "source": [
    "total_number_of_reviews = driver.find_element(\"xpath\", '//*[@id=\"QA0Szd\"]/div/div/div[1]/div[2]/div/div[1]/div/div/div[3]/div[2]/div/div[2]/div[2]').text.split(\" \")[0]"
   ]
  },
  {
   "cell_type": "code",
   "execution_count": 7,
   "id": "5ce508db",
   "metadata": {},
   "outputs": [],
   "source": [
    "total_number_of_reviews = int(total_number_of_reviews.replace(',','')) if ',' in total_number_of_reviews else int(total_number_of_reviews)\n"
   ]
  },
  {
   "cell_type": "code",
   "execution_count": 8,
   "id": "7b91e1bf",
   "metadata": {},
   "outputs": [
    {
     "data": {
      "text/plain": [
       "862"
      ]
     },
     "execution_count": 8,
     "metadata": {},
     "output_type": "execute_result"
    }
   ],
   "source": [
    "total_number_of_reviews"
   ]
  },
  {
   "cell_type": "code",
   "execution_count": 9,
   "id": "6973fab5",
   "metadata": {},
   "outputs": [],
   "source": [
    "scrollable_div = driver.find_element(\"xpath\",'//*[@id=\"QA0Szd\"]/div/div/div[1]/div[2]/div/div[1]/div/div/div[3]')"
   ]
  },
  {
   "cell_type": "code",
   "execution_count": 10,
   "id": "ee2d4e6e",
   "metadata": {},
   "outputs": [],
   "source": [
    "for i in range(0,(round(total_number_of_reviews/10 - 1))):\n",
    "        driver.execute_script('arguments[0].scrollTop = arguments[0].scrollHeight', \n",
    "                scrollable_div)\n",
    "        time.sleep(3)"
   ]
  },
  {
   "cell_type": "code",
   "execution_count": 160,
   "id": "b454a0ff",
   "metadata": {},
   "outputs": [],
   "source": [
    "response = BeautifulSoup(driver.page_source, 'html.parser')\n",
    "reviews = response.find_all('div', class_='m6QErb DxyBCb kA9KIf dS8AEf')\n"
   ]
  },
  {
   "cell_type": "code",
   "execution_count": 161,
   "id": "ef3b4c3d",
   "metadata": {},
   "outputs": [
    {
     "name": "stdout",
     "output_type": "stream",
     "text": [
      "review_text:  803\n",
      "review_rating:  862\n",
      "reviewer:  862\n",
      "reviewer:  840\n"
     ]
    }
   ],
   "source": [
    "review_text = []\n",
    "review_rating = []\n",
    "reviewer = []\n",
    "pastreview = []\n",
    "for review in response.find_all('span',class_='wiI7pd'):\n",
    "    review_text.append(review.text)\n",
    "print(\"review_text: \",len(review_text))\n",
    "\n",
    "for rating in response.select(\"div.DU9Pgb span.kvMYJc\"):\n",
    "    review_rating.append(rating['aria-label'])\n",
    "print(\"review_rating: \",len(review_rating))\n",
    "\n",
    "for name in response.find_all('div',class_='jftiEf fontBodyMedium'):\n",
    "    reviewer.append(name['aria-label'])\n",
    "print(\"reviewer: \",len(reviewer))\n",
    "\n",
    "for past in response.find_all('div',class_='RfnDt'):\n",
    "    pastreview.append(past.text)\n",
    "print(\"reviewer: \",len(pastreview))\n"
   ]
  },
  {
   "cell_type": "code",
   "execution_count": 164,
   "id": "9618ecd7",
   "metadata": {},
   "outputs": [],
   "source": [
    "review_df = pd.DataFrame([review_text,review_rating,reviewer,pastreview]).T\n",
    "review_df.columns = ['message','rating','reviewer','pastreviews']"
   ]
  },
  {
   "cell_type": "code",
   "execution_count": 165,
   "id": "26b661a5",
   "metadata": {},
   "outputs": [
    {
     "data": {
      "text/html": [
       "<div>\n",
       "<style scoped>\n",
       "    .dataframe tbody tr th:only-of-type {\n",
       "        vertical-align: middle;\n",
       "    }\n",
       "\n",
       "    .dataframe tbody tr th {\n",
       "        vertical-align: top;\n",
       "    }\n",
       "\n",
       "    .dataframe thead th {\n",
       "        text-align: right;\n",
       "    }\n",
       "</style>\n",
       "<table border=\"1\" class=\"dataframe\">\n",
       "  <thead>\n",
       "    <tr style=\"text-align: right;\">\n",
       "      <th></th>\n",
       "      <th>message</th>\n",
       "      <th>rating</th>\n",
       "      <th>reviewer</th>\n",
       "      <th>pastreviews</th>\n",
       "    </tr>\n",
       "  </thead>\n",
       "  <tbody>\n",
       "    <tr>\n",
       "      <th>0</th>\n",
       "      <td>My Relative Someone Referred this  Inceptez Te...</td>\n",
       "      <td>5 stars</td>\n",
       "      <td>bv asha</td>\n",
       "      <td>1 review</td>\n",
       "    </tr>\n",
       "    <tr>\n",
       "      <th>1</th>\n",
       "      <td>Good to learn big  Data from Inceptez. Thanks ...</td>\n",
       "      <td>5 stars</td>\n",
       "      <td>Shri Balaji</td>\n",
       "      <td>1 review</td>\n",
       "    </tr>\n",
       "    <tr>\n",
       "      <th>2</th>\n",
       "      <td>Inceptez Technologies is probably the best ins...</td>\n",
       "      <td>5 stars</td>\n",
       "      <td>Mohamed Mujamil</td>\n",
       "      <td>Local Guide · 17 reviews</td>\n",
       "    </tr>\n",
       "    <tr>\n",
       "      <th>3</th>\n",
       "      <td>It's a great place to learn the Data Science c...</td>\n",
       "      <td>5 stars</td>\n",
       "      <td>Divya Narayana</td>\n",
       "      <td>1 review</td>\n",
       "    </tr>\n",
       "    <tr>\n",
       "      <th>4</th>\n",
       "      <td>Very good place to learn Big Data related comp...</td>\n",
       "      <td>5 stars</td>\n",
       "      <td>Karthikeyan Perumal</td>\n",
       "      <td>2 reviews</td>\n",
       "    </tr>\n",
       "    <tr>\n",
       "      <th>...</th>\n",
       "      <td>...</td>\n",
       "      <td>...</td>\n",
       "      <td>...</td>\n",
       "      <td>...</td>\n",
       "    </tr>\n",
       "    <tr>\n",
       "      <th>857</th>\n",
       "      <td>None</td>\n",
       "      <td>5 stars</td>\n",
       "      <td>Ram Prakash</td>\n",
       "      <td>None</td>\n",
       "    </tr>\n",
       "    <tr>\n",
       "      <th>858</th>\n",
       "      <td>None</td>\n",
       "      <td>5 stars</td>\n",
       "      <td>Revathi Jothiraj</td>\n",
       "      <td>None</td>\n",
       "    </tr>\n",
       "    <tr>\n",
       "      <th>859</th>\n",
       "      <td>None</td>\n",
       "      <td>5 stars</td>\n",
       "      <td>Anti Indian</td>\n",
       "      <td>None</td>\n",
       "    </tr>\n",
       "    <tr>\n",
       "      <th>860</th>\n",
       "      <td>None</td>\n",
       "      <td>5 stars</td>\n",
       "      <td>Meaga Varsha Ramasami</td>\n",
       "      <td>None</td>\n",
       "    </tr>\n",
       "    <tr>\n",
       "      <th>861</th>\n",
       "      <td>None</td>\n",
       "      <td>5 stars</td>\n",
       "      <td>Gnanavel L</td>\n",
       "      <td>None</td>\n",
       "    </tr>\n",
       "  </tbody>\n",
       "</table>\n",
       "<p>862 rows × 4 columns</p>\n",
       "</div>"
      ],
      "text/plain": [
       "                                               message   rating  \\\n",
       "0    My Relative Someone Referred this  Inceptez Te...  5 stars   \n",
       "1    Good to learn big  Data from Inceptez. Thanks ...  5 stars   \n",
       "2    Inceptez Technologies is probably the best ins...  5 stars   \n",
       "3    It's a great place to learn the Data Science c...  5 stars   \n",
       "4    Very good place to learn Big Data related comp...  5 stars   \n",
       "..                                                 ...      ...   \n",
       "857                                               None  5 stars   \n",
       "858                                               None  5 stars   \n",
       "859                                               None  5 stars   \n",
       "860                                               None  5 stars   \n",
       "861                                               None  5 stars   \n",
       "\n",
       "                  reviewer               pastreviews  \n",
       "0                  bv asha                  1 review  \n",
       "1              Shri Balaji                  1 review  \n",
       "2          Mohamed Mujamil  Local Guide · 17 reviews  \n",
       "3           Divya Narayana                  1 review  \n",
       "4      Karthikeyan Perumal                 2 reviews  \n",
       "..                     ...                       ...  \n",
       "857            Ram Prakash                      None  \n",
       "858       Revathi Jothiraj                      None  \n",
       "859            Anti Indian                      None  \n",
       "860  Meaga Varsha Ramasami                      None  \n",
       "861             Gnanavel L                      None  \n",
       "\n",
       "[862 rows x 4 columns]"
      ]
     },
     "execution_count": 165,
     "metadata": {},
     "output_type": "execute_result"
    }
   ],
   "source": [
    "review_df"
   ]
  },
  {
   "cell_type": "code",
   "execution_count": null,
   "id": "9137e5dd",
   "metadata": {},
   "outputs": [],
   "source": [
    "review_df.to_csv('inceptez_reviews.csv', index = Fals)"
   ]
  }
 ],
 "metadata": {
  "kernelspec": {
   "display_name": "Python 3 (ipykernel)",
   "language": "python",
   "name": "python3"
  },
  "language_info": {
   "codemirror_mode": {
    "name": "ipython",
    "version": 3
   },
   "file_extension": ".py",
   "mimetype": "text/x-python",
   "name": "python",
   "nbconvert_exporter": "python",
   "pygments_lexer": "ipython3",
   "version": "3.9.13"
  }
 },
 "nbformat": 4,
 "nbformat_minor": 5
}
